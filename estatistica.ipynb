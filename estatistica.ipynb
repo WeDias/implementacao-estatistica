{
 "cells": [
  {
   "cell_type": "code",
   "execution_count": 1,
   "metadata": {
    "collapsed": true
   },
   "outputs": [],
   "source": [
    "from collections import Counter\n",
    "from pandas import DataFrame\n",
    "\n",
    "class Estatistica:\n",
    "\n",
    "    def __init__(self, amostra: list[int]):\n",
    "        self.amostra = sorted(amostra)\n",
    "        self.media = sum(self.amostra) / len(self.amostra)\n",
    "\n",
    "    def __repr__(self):\n",
    "        return 'Estatistica'\n",
    "\n",
    "    def mediana(self) -> float:\n",
    "        meio = len(self.amostra) // 2\n",
    "        if len(self.amostra) % 2 != 0:\n",
    "            return self.amostra[meio]\n",
    "        return (self.amostra[meio - 1] + self.amostra[meio]) / 2\n",
    "\n",
    "    def frequencia(self) -> Counter:\n",
    "        return Counter(self.amostra)\n",
    "\n",
    "    def amplitude(self):\n",
    "        return max(self.amostra) - min(self.amostra)\n",
    "\n",
    "    def moda(self) -> int:\n",
    "        return max(self.frequencia().items(), key=lambda x: x[1])[0]\n",
    "\n",
    "    def desvio(self, n) -> float:\n",
    "        return abs(self.amostra[n] - self.media)\n",
    "\n",
    "    def desvio_medio(self) -> float:\n",
    "        return sum([self.desvio(n) for n in range(len(self.amostra))]) / len(self.amostra)\n",
    "\n",
    "    def varianca(self) -> float:\n",
    "        return sum([self.desvio(n) ** 2 for n in range(len(self.amostra))]) / (len(self.amostra) - 1)\n",
    "\n",
    "    def desvio_padrao(self) -> float:\n",
    "        return self.varianca() ** .5\n",
    "\n",
    "    def descrever(self, nome):\n",
    "        soma_frequencia = 0\n",
    "        frequencia_absoluta = self.frequencia()\n",
    "        frequencia = {\n",
    "            nome.capitalize(): frequencia_absoluta.keys(),\n",
    "            'Frequência': frequencia_absoluta.values(),\n",
    "            'Relativa': [], 'Percentual': [], 'Acumulada': [],\n",
    "        }\n",
    "        for valor in frequencia_absoluta.values():\n",
    "            relativa = valor / len(self.amostra)\n",
    "            absoluta = relativa * 100\n",
    "            soma_frequencia += absoluta\n",
    "            frequencia['Relativa'].append(relativa)\n",
    "            frequencia['Percentual'].append(absoluta)\n",
    "            frequencia['Acumulada'].append(soma_frequencia)\n",
    "\n",
    "        print(self.amostra, '\\n')\n",
    "        print(DataFrame.from_dict(frequencia), '\\n')\n",
    "        print(DataFrame.from_dict({\n",
    "            'Média': self.media,\n",
    "            'Moda': self.moda(),\n",
    "            'Mediana': self.mediana(),\n",
    "            'Amplitude': self.amplitude(),\n",
    "            'Maior': max(self.amostra),\n",
    "            'Menor': min(self.amostra),\n",
    "            'Variância': self.varianca(),\n",
    "            'Desvio médio': self.desvio_medio(),\n",
    "            'Desvio padrão': self.desvio_padrao()\n",
    "        }, orient='index'), '\\n')"
   ]
  },
  {
   "cell_type": "code",
   "execution_count": 2,
   "outputs": [
    {
     "name": "stdout",
     "output_type": "stream",
     "text": [
      "[0, 1, 1, 2, 2, 2, 3, 3, 4, 4, 4, 5, 5, 6, 6, 8, 8, 8, 8, 10] \n",
      "\n",
      "   Nota  Frequência  Relativa  Percentual  Acumulada\n",
      "0     0           1      0.05         5.0        5.0\n",
      "1     1           2      0.10        10.0       15.0\n",
      "2     2           3      0.15        15.0       30.0\n",
      "3     3           2      0.10        10.0       40.0\n",
      "4     4           3      0.15        15.0       55.0\n",
      "5     5           2      0.10        10.0       65.0\n",
      "6     6           2      0.10        10.0       75.0\n",
      "7     8           4      0.20        20.0       95.0\n",
      "8    10           1      0.05         5.0      100.0 \n",
      "\n",
      "                       0\n",
      "Média           4.500000\n",
      "Moda            8.000000\n",
      "Mediana         4.000000\n",
      "Amplitude      10.000000\n",
      "Maior          10.000000\n",
      "Menor           0.000000\n",
      "Variância       8.052632\n",
      "Desvio médio    2.350000\n",
      "Desvio padrão   2.837716 \n",
      "\n"
     ]
    }
   ],
   "source": [
    "from random import randint\n",
    "\n",
    "notas_alunos = [randint(0, 10) for _ in range(20)]\n",
    "estatistica = Estatistica(notas_alunos)\n",
    "estatistica.descrever('Nota')\n"
   ],
   "metadata": {
    "collapsed": false,
    "pycharm": {
     "name": "#%%\n"
    }
   }
  }
 ],
 "metadata": {
  "kernelspec": {
   "display_name": "Python 3",
   "language": "python",
   "name": "python3"
  },
  "language_info": {
   "codemirror_mode": {
    "name": "ipython",
    "version": 2
   },
   "file_extension": ".py",
   "mimetype": "text/x-python",
   "name": "python",
   "nbconvert_exporter": "python",
   "pygments_lexer": "ipython2",
   "version": "2.7.6"
  }
 },
 "nbformat": 4,
 "nbformat_minor": 0
}